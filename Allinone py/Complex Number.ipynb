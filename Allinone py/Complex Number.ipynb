{
 "cells": [
  {
   "cell_type": "markdown",
   "metadata": {},
   "source": [
    "# complex( )"
   ]
  },
  {
   "cell_type": "markdown",
   "metadata": {},
   "source": [
    "complex() returns a complex number with the value real + imag*1j or converts a string or number to a complex number."
   ]
  },
  {
   "cell_type": "markdown",
   "metadata": {},
   "source": [
    "If the first parameter is a string, it will be interpreted as a complex number and the function must be called without a second parameter. The second parameter can never be a string. Each argument may be any numeric type (including complex). If imag is omitted, it defaults to zero and the constructor serves as a numeric conversion like int and float. If both arguments are omitted, returns 0j."
   ]
  },
  {
   "cell_type": "markdown",
   "metadata": {},
   "source": [
    "If you are doing math or engineering that requires complex numbers (such as dynamics,control systems, or impedance of a circuit) this is a useful tool to have in Python."
   ]
  },
  {
   "cell_type": "markdown",
   "metadata": {},
   "source": [
    "Lets see some examples:"
   ]
  },
  {
   "cell_type": "code",
   "execution_count": 1,
   "metadata": {},
   "outputs": [
    {
     "data": {
      "text/plain": [
       "(2+3j)"
      ]
     },
     "execution_count": 1,
     "metadata": {},
     "output_type": "execute_result"
    }
   ],
   "source": [
    "complex(2,3)"
   ]
  },
  {
   "cell_type": "code",
   "execution_count": 5,
   "metadata": {},
   "outputs": [
    {
     "name": "stdout",
     "output_type": "stream",
     "text": [
      "<class 'complex'>\n"
     ]
    }
   ],
   "source": [
    "print(type(complex(2+3j)))"
   ]
  },
  {
   "cell_type": "markdown",
   "metadata": {},
   "source": [
    "We also pass strings"
   ]
  },
  {
   "cell_type": "code",
   "execution_count": 2,
   "metadata": {},
   "outputs": [
    {
     "data": {
      "text/plain": [
       "(12+2j)"
      ]
     },
     "execution_count": 2,
     "metadata": {},
     "output_type": "execute_result"
    }
   ],
   "source": [
    "complex('12+2j')"
   ]
  },
  {
   "cell_type": "markdown",
   "metadata": {},
   "source": [
    "We also add complex number as well as substraction , multiples & divisions !"
   ]
  },
  {
   "cell_type": "code",
   "execution_count": 55,
   "metadata": {},
   "outputs": [
    {
     "name": "stdout",
     "output_type": "stream",
     "text": [
      "(2+3j)\n",
      "(4+5j)\n",
      "The two complex number : (2+3j) (4+5j)\n"
     ]
    }
   ],
   "source": [
    "C = complex(2,3)\n",
    "C2 = complex(4,5)\n",
    "print(C)\n",
    "print(C2)\n",
    "print(\"The two complex number : {} {}\".format(C,C2))"
   ]
  },
  {
   "cell_type": "code",
   "execution_count": 56,
   "metadata": {},
   "outputs": [
    {
     "name": "stdout",
     "output_type": "stream",
     "text": [
      "(2+3j)\n",
      "(4+5j)\n",
      "The two complex number : (2+3j)  (4+5j) \n",
      "Addition of this two complex number is : (2+3j) + (4+5j) = (6+8j)\n"
     ]
    }
   ],
   "source": [
    "C = complex(2,3)\n",
    "C2 = complex(4,5)\n",
    "print(C)\n",
    "print(C2)\n",
    "add = C + C2\n",
    "print(\"The two complex number : {}  {} \".format(C,C2))\n",
    "print(\"Addition of this two complex number is : {} + {} = {}\".format(C , C2 , add))"
   ]
  },
  {
   "cell_type": "code",
   "execution_count": 57,
   "metadata": {},
   "outputs": [
    {
     "name": "stdout",
     "output_type": "stream",
     "text": [
      "(2+3j)\n",
      "(4+5j)\n",
      "The two complex number : (2+3j)  (4+5j) \n",
      "Addition of this two complex number is : (2+3j) - (4+5j) = (-2-2j)\n"
     ]
    }
   ],
   "source": [
    "C = complex(2,3)\n",
    "C2 = complex(4,5)\n",
    "print(C)\n",
    "print(C2)\n",
    "sub = C - C2\n",
    "print(\"The two complex number : {}  {} \".format(C,C2))\n",
    "print(\"Addition of this two complex number is : {} - {} = {}\".format(C , C2 , sub))"
   ]
  },
  {
   "cell_type": "code",
   "execution_count": 58,
   "metadata": {},
   "outputs": [
    {
     "name": "stdout",
     "output_type": "stream",
     "text": [
      "(2+3j)\n",
      "(4+5j)\n",
      "The two complex number : (2+3j)  (4+5j) \n",
      "Addition of this two complex number is : (2+3j) X (4+5j) = (-7+22j)\n"
     ]
    }
   ],
   "source": [
    "C = complex(2,3)\n",
    "C2 = complex(4,5)\n",
    "print(C)\n",
    "print(C2)\n",
    "mult = C * C2\n",
    "print(\"The two complex number : {}  {} \".format(C,C2))\n",
    "print(\"Addition of this two complex number is : {} X {} = {}\".format(C , C2, mult))"
   ]
  },
  {
   "cell_type": "code",
   "execution_count": 54,
   "metadata": {},
   "outputs": [
    {
     "name": "stdout",
     "output_type": "stream",
     "text": [
      "(2+3j)\n",
      "(4+5j)\n",
      "The two complex number : (2+3j)  (4+5j) \n",
      "Addition of this two complex number is : (2+3j) / (4+5j) = (0.5609756097560976+0.0487804878048781j)\n"
     ]
    }
   ],
   "source": [
    "C = complex(2,3)\n",
    "C2 = complex(4,5)\n",
    "print(C)\n",
    "print(C2)\n",
    "div = C / C2\n",
    "print(\"The two complex number : {}  {} \".format(C,C2))\n",
    "print(\"Addition of this two complex number is : {} / {} = {}\".format(C , C2 , div))"
   ]
  }
 ],
 "metadata": {
  "kernelspec": {
   "display_name": "Python 3",
   "language": "python",
   "name": "python3"
  },
  "language_info": {
   "codemirror_mode": {
    "name": "ipython",
    "version": 3
   },
   "file_extension": ".py",
   "mimetype": "text/x-python",
   "name": "python",
   "nbconvert_exporter": "python",
   "pygments_lexer": "ipython3",
   "version": "3.6.4"
  }
 },
 "nbformat": 4,
 "nbformat_minor": 2
}
