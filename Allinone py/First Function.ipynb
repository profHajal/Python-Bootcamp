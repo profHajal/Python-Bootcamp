{
 "cells": [
  {
   "cell_type": "markdown",
   "metadata": {},
   "source": [
    "# Define A Function "
   ]
  },
  {
   "cell_type": "markdown",
   "metadata": {},
   "source": [
    "  Just simply write def function_name(argument if needed) then : then return \n",
    "  then call the function you just created & print it . the sample code given below !\n"
   ]
  },
  {
   "cell_type": "code",
   "execution_count": 2,
   "metadata": {},
   "outputs": [
    {
     "name": "stdout",
     "output_type": "stream",
     "text": [
      "Sum is :  26\n"
     ]
    }
   ],
   "source": [
    "def add(num1 , num2):\n",
    "    return num1 + num2\n",
    "\n",
    "print(\"Sum is : \",add(9,17))"
   ]
  },
  {
   "cell_type": "code",
   "execution_count": 4,
   "metadata": {},
   "outputs": [
    {
     "name": "stdout",
     "output_type": "stream",
     "text": [
      "5\n",
      "8\n",
      "Sum is :  13\n"
     ]
    }
   ],
   "source": [
    "n = int(input())\n",
    "m = int(input())\n",
    "\n",
    "def add(n,m):\n",
    "    return n + m\n",
    "\n",
    "print(\"Sum is : \",add(n,m))"
   ]
  },
  {
   "cell_type": "code",
   "execution_count": 6,
   "metadata": {},
   "outputs": [
    {
     "name": "stdout",
     "output_type": "stream",
     "text": [
      "Hey \n",
      "Boys\n",
      "Hello :  Hey Boys\n"
     ]
    }
   ],
   "source": [
    "string = input()\n",
    "string2 = input()\n",
    "\n",
    "def strcpy(string,string2):\n",
    "    return string + string2\n",
    "\n",
    "print(\"Hello : \", strcpy(string,string2))\n"
   ]
  },
  {
   "cell_type": "code",
   "execution_count": null,
   "metadata": {},
   "outputs": [],
   "source": []
  }
 ],
 "metadata": {
  "kernelspec": {
   "display_name": "Python 3",
   "language": "python",
   "name": "python3"
  },
  "language_info": {
   "codemirror_mode": {
    "name": "ipython",
    "version": 3
   },
   "file_extension": ".py",
   "mimetype": "text/x-python",
   "name": "python",
   "nbconvert_exporter": "python",
   "pygments_lexer": "ipython3",
   "version": "3.6.4"
  }
 },
 "nbformat": 4,
 "nbformat_minor": 2
}
