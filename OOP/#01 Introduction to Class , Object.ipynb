{
 "cells": [
  {
   "cell_type": "markdown",
   "metadata": {},
   "source": [
    "# ক্লাস , অবজেক্ট\n",
    "\n",
    "অবজেক্ট এবং ক্লাস নিয়ে কথা বলার আগে বুঝতে হবে এদুটি জিনিস আসলে কি । খুব সহজভাবে বলতে গেলে ক্লাস হচ্ছে এক ধরনের টেম্পলেট বা ব্লুপ্রিন্ট যার উপর ভিত্তি করে অনেক গুলো আলাদা আলাদা অবজেক্ট তৈরি করা সম্ভব।\n",
    "\n",
    "এবার পাইথনে কিভাবে ক্লাস লিখতে হয় তা দেখব ।"
   ]
  },
  {
   "cell_type": "markdown",
   "metadata": {},
   "source": [
    "class Car:\n",
    "    <Statement 1>\n",
    "    .\n",
    "    .\n",
    "    .\n",
    "    <Statement N>"
   ]
  },
  {
   "cell_type": "markdown",
   "metadata": {},
   "source": [
    "Car হইল ক্লাসের নাম । এবার এটা সম্ূর্ণ করা যাক ।"
   ]
  },
  {
   "cell_type": "code",
   "execution_count": 1,
   "metadata": {},
   "outputs": [
    {
     "name": "stdout",
     "output_type": "stream",
     "text": [
      "Name of the car :  Toyota\n",
      "Color :  white\n",
      "Starting the engine !\n"
     ]
    }
   ],
   "source": [
    "class Car:\n",
    "    name = 'Toyota'\n",
    "    color = 'white'\n",
    "    \n",
    "    def start():\n",
    "        print('Starting the engine !')\n",
    "        \n",
    "print('Name of the car : ',Car.name)\n",
    "print('Color : ',Car.color)\n",
    "\n",
    "Car.start()"
   ]
  },
  {
   "cell_type": "markdown",
   "metadata": {},
   "source": [
    "এবার Car ক্লাসের অবজেক্ট তৈরি করব ।"
   ]
  },
  {
   "cell_type": "code",
   "execution_count": 2,
   "metadata": {},
   "outputs": [
    {
     "data": {
      "text/plain": [
       "'Toyota'"
      ]
     },
     "execution_count": 2,
     "metadata": {},
     "output_type": "execute_result"
    }
   ],
   "source": [
    "obj1 = Car()\n",
    "Car.name"
   ]
  },
  {
   "cell_type": "markdown",
   "metadata": {},
   "source": [
    "`obj1` `Car` ক্লাসের অবজেক্ট"
   ]
  },
  {
   "cell_type": "code",
   "execution_count": 4,
   "metadata": {},
   "outputs": [
    {
     "name": "stdout",
     "output_type": "stream",
     "text": [
      "<class '__main__.Car'>\n"
     ]
    }
   ],
   "source": [
    "print(type(obj1))"
   ]
  },
  {
   "cell_type": "markdown",
   "metadata": {},
   "source": [
    "### Constructor , Inheritance পরবর্তী পর্বে আসবে ।"
   ]
  }
 ],
 "metadata": {
  "kernelspec": {
   "display_name": "Python 3",
   "language": "python",
   "name": "python3"
  },
  "language_info": {
   "codemirror_mode": {
    "name": "ipython",
    "version": 3
   },
   "file_extension": ".py",
   "mimetype": "text/x-python",
   "name": "python",
   "nbconvert_exporter": "python",
   "pygments_lexer": "ipython3",
   "version": "3.7.0"
  }
 },
 "nbformat": 4,
 "nbformat_minor": 2
}
